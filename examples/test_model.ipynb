{
 "cells": [
  {
   "cell_type": "code",
   "execution_count": 3,
   "metadata": {},
   "outputs": [
    {
     "name": "stderr",
     "output_type": "stream",
     "text": [
      "c:\\Users\\bmaag\\anaconda3\\envs\\py311\\Lib\\site-packages\\tqdm\\auto.py:21: TqdmWarning: IProgress not found. Please update jupyter and ipywidgets. See https://ipywidgets.readthedocs.io/en/stable/user_install.html\n",
      "  from .autonotebook import tqdm as notebook_tqdm\n"
     ]
    }
   ],
   "source": [
    "import diffusers\n",
    "import torch\n",
    "import os"
   ]
  },
  {
   "cell_type": "markdown",
   "metadata": {},
   "source": [
    "# Load SD-Turbo model"
   ]
  },
  {
   "cell_type": "code",
   "execution_count": 4,
   "metadata": {},
   "outputs": [
    {
     "name": "stderr",
     "output_type": "stream",
     "text": [
      "Loading pipeline components...: 100%|██████████| 5/5 [00:11<00:00,  2.28s/it]\n",
      "You have disabled the safety checker for <class 'diffusers.pipelines.stable_diffusion.pipeline_stable_diffusion.StableDiffusionPipeline'> by passing `safety_checker=None`. Ensure that you abide to the conditions of the Stable Diffusion license and do not expose unfiltered results in services or applications open to the public. Both the diffusers team and Hugging Face strongly recommend to keep the safety filter enabled in all public facing circumstances, disabling it only for use-cases that involve analyzing network behavior or auditing its results. For more information, please have a look at https://github.com/huggingface/diffusers/pull/254 .\n"
     ]
    }
   ],
   "source": [
    "pipeline = diffusers.AutoPipelineForText2Image.from_pretrained(\n",
    "    \"stabilityai/sd-turbo\", \n",
    "    torch_dtype=torch.float16\n",
    ").to(\"cuda\")\n"
   ]
  },
  {
   "cell_type": "markdown",
   "metadata": {},
   "source": [
    "# Some card examples\n",
    "Two real magic cards and 4 generate by magic-the-gpt"
   ]
  },
  {
   "cell_type": "code",
   "execution_count": 8,
   "metadata": {},
   "outputs": [],
   "source": [
    "card_examples = {\n",
    "    'gigantosaurus': 'magic the gathering card artwork, gigantosaurus, {g}{g}{g}{g}{g}, creature — dinosaur, nan, power 10, toughness 10',\n",
    "    'urzas_armor': 'magic the gathering card artwork, urzas armor, {6}, artifact, if a source would deal damage to you, prevent 1 of that damage., power nan, toughness nan',\n",
    "    'rot_of_the_wild': 'magic the gathering card artwork, rot of the wild, {4}{g}{g}{u}, sorcery, counter target spell., power nan, toughness nan',\n",
    "    'goblin_born': 'magic the gathering card artwork, goblin born, {3}{r}{r}, creature — beast, at the beginning of your upkeep, goblin born deals 10 damage to you., power 0, toughness 3',\n",
    "    'sanctum_of_abandity': 'magic the gathering card artwork, sanctum of abandity, {1}{w}, enchantment — shapeshinen, creatures you control get +0/+2. whenever one or more tokens or blue creatures you control die, transform sanctum of abandition., power nan, toughness nan',\n",
    "    'greveil_dark':'magic the gathering card artwork, greveil dark, {1}{b}, instant, destroy target creature. it cant be regenerated. that creatures controller loses 1 life., power nan, toughness nan'\n",
    "}"
   ]
  },
  {
   "cell_type": "markdown",
   "metadata": {},
   "source": [
    "# Create artworks with original SD-Turbo"
   ]
  },
  {
   "cell_type": "code",
   "execution_count": 13,
   "metadata": {},
   "outputs": [
    {
     "name": "stderr",
     "output_type": "stream",
     "text": [
      "100%|██████████| 50/50 [00:06<00:00,  8.18it/s]\n",
      "100%|██████████| 50/50 [00:06<00:00,  8.23it/s]\n",
      "100%|██████████| 50/50 [00:06<00:00,  8.31it/s]\n",
      "100%|██████████| 50/50 [00:06<00:00,  8.29it/s]\n",
      "100%|██████████| 50/50 [00:05<00:00,  8.40it/s]\n",
      "100%|██████████| 50/50 [00:05<00:00,  8.39it/s]\n"
     ]
    }
   ],
   "source": [
    "for k, str_card in card_examples.items():\n",
    "    image = pipeline(str_card).images[0]\n",
    "    image.save('sd-turbo\\{}.png'.format(k))"
   ]
  },
  {
   "cell_type": "markdown",
   "metadata": {},
   "source": [
    "# Create artworks with LoRA fine-tuned SD-Turbo"
   ]
  },
  {
   "cell_type": "code",
   "execution_count": 18,
   "metadata": {},
   "outputs": [],
   "source": [
    "pipeline.load_lora_weights(\"sdturbo_full_text_5000\", weight_name=\"pytorch_lora_weights.safetensors\")"
   ]
  },
  {
   "cell_type": "code",
   "execution_count": 19,
   "metadata": {},
   "outputs": [
    {
     "name": "stderr",
     "output_type": "stream",
     "text": [
      "100%|██████████| 50/50 [00:06<00:00,  7.39it/s]\n",
      "100%|██████████| 50/50 [00:06<00:00,  7.60it/s]\n",
      "100%|██████████| 50/50 [00:06<00:00,  7.54it/s]\n",
      "100%|██████████| 50/50 [00:06<00:00,  7.54it/s]\n",
      "100%|██████████| 50/50 [00:06<00:00,  7.53it/s]\n",
      "100%|██████████| 50/50 [00:06<00:00,  7.56it/s]\n"
     ]
    }
   ],
   "source": [
    "for k, str_card in card_examples.items():\n",
    "    image = pipeline(str_card).images[0]\n",
    "    image.save('sd-turbo-lora\\{}.png'.format(k))"
   ]
  },
  {
   "cell_type": "code",
   "execution_count": null,
   "metadata": {},
   "outputs": [],
   "source": []
  }
 ],
 "metadata": {
  "kernelspec": {
   "display_name": "Python 3",
   "language": "python",
   "name": "python3"
  },
  "language_info": {
   "codemirror_mode": {
    "name": "ipython",
    "version": 3
   },
   "file_extension": ".py",
   "mimetype": "text/x-python",
   "name": "python",
   "nbconvert_exporter": "python",
   "pygments_lexer": "ipython3",
   "version": "3.11.7"
  }
 },
 "nbformat": 4,
 "nbformat_minor": 2
}
